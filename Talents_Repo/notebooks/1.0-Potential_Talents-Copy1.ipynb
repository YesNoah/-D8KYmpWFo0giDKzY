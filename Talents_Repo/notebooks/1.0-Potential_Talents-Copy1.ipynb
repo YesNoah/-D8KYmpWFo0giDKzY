{
 "cells": [
  {
   "cell_type": "markdown",
   "id": "260c9b98",
   "metadata": {},
   "source": [
    "# Potential Talents"
   ]
  },
  {
   "cell_type": "code",
   "execution_count": 1,
   "id": "1d730f65",
   "metadata": {},
   "outputs": [],
   "source": [
    "import sys\n",
    "import numpy as np\n",
    "import pandas as pd\n",
    "import matplotlib.pyplot as plt\n",
    "import seaborn as sns\n",
    "import sklearn\n"
   ]
  },
  {
   "cell_type": "code",
   "execution_count": 7,
   "id": "ede191f3",
   "metadata": {},
   "outputs": [
    {
     "name": "stdout",
     "output_type": "stream",
     "text": [
      "[WinError 123] The filename, directory name, or volume label syntax is incorrect: ': O:\\\\Talents_Repo'\n",
      "C:\\Users\\noahc\n"
     ]
    }
   ],
   "source": [
    "cd: O:\\Talents_Repo"
   ]
  },
  {
   "cell_type": "code",
   "execution_count": null,
   "id": "4c35e030",
   "metadata": {},
   "outputs": [],
   "source": []
  }
 ],
 "metadata": {
  "kernelspec": {
   "display_name": "Python 3 (ipykernel)",
   "language": "python",
   "name": "python3"
  },
  "language_info": {
   "codemirror_mode": {
    "name": "ipython",
    "version": 3
   },
   "file_extension": ".py",
   "mimetype": "text/x-python",
   "name": "python",
   "nbconvert_exporter": "python",
   "pygments_lexer": "ipython3",
   "version": "3.8.13"
  }
 },
 "nbformat": 4,
 "nbformat_minor": 5
}
